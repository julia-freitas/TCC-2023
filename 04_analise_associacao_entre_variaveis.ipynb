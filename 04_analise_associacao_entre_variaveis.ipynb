{
  "nbformat": 4,
  "nbformat_minor": 0,
  "metadata": {
    "colab": {
      "provenance": [],
      "include_colab_link": true
    },
    "kernelspec": {
      "name": "python3",
      "display_name": "Python 3"
    },
    "language_info": {
      "name": "python"
    }
  },
  "cells": [
    {
      "cell_type": "markdown",
      "metadata": {
        "id": "view-in-github",
        "colab_type": "text"
      },
      "source": [
        "<a href=\"https://colab.research.google.com/github/julia-freitas/TCC-2023/blob/main/04_analise_associacao_entre_variaveis.ipynb\" target=\"_parent\"><img src=\"https://colab.research.google.com/assets/colab-badge.svg\" alt=\"Open In Colab\"/></a>"
      ]
    },
    {
      "cell_type": "markdown",
      "source": [
        "#### Diagrama Etapas do projeto"
      ],
      "metadata": {
        "id": "Z59XrVbYqrJq"
      }
    },
    {
      "cell_type": "markdown",
      "source": [
        "![80329Roadmap.png.webp](data:image/webp;base64,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)"
      ],
      "metadata": {
        "id": "JslJp0UTqcSd"
      }
    },
    {
      "cell_type": "markdown",
      "source": [
        "#### Import das bibliotecas e leitura da base de dados\n",
        "[Base de dados importada](https://docs.google.com/spreadsheets/d/1xPHHgOXQMyMeYAcEJ_Rgv17tRWk7ulvA/edit?usp=drive_link&ouid=112262069800291344251&rtpof=true&sd=true) (utilizei aba 'base após limpeza')"
      ],
      "metadata": {
        "id": "N3RVGMjTsp17"
      }
    },
    {
      "cell_type": "code",
      "source": [
        "from google.colab import drive\n",
        "drive.mount('/content/drive')"
      ],
      "metadata": {
        "id": "ut3wDhXAOA_x",
        "colab": {
          "base_uri": "https://localhost:8080/"
        },
        "outputId": "b54de009-6419-4a02-9469-0f00e7df40ce"
      },
      "execution_count": 1,
      "outputs": [
        {
          "output_type": "stream",
          "name": "stdout",
          "text": [
            "Mounted at /content/drive\n"
          ]
        }
      ]
    },
    {
      "cell_type": "code",
      "source": [
        "import pandas as pd\n",
        "import numpy as np\n",
        "import seaborn as sns\n",
        "import matplotlib.pyplot as plt"
      ],
      "metadata": {
        "id": "y6EbfpcSsO9G"
      },
      "execution_count": 2,
      "outputs": []
    },
    {
      "cell_type": "code",
      "source": [
        "df = pd.read_csv('/content/drive/MyDrive/TCC/base/base-raw-UKDA-8502-stata/csv/base-apos-tratamento.csv')"
      ],
      "metadata": {
        "id": "BxWl5ojpazag"
      },
      "execution_count": 3,
      "outputs": []
    },
    {
      "cell_type": "code",
      "source": [
        "df.columns"
      ],
      "metadata": {
        "colab": {
          "base_uri": "https://localhost:8080/"
        },
        "id": "pOKz0QUnuHHL",
        "outputId": "f9997b0c-8e4e-4ddd-ee6c-0e9e632a34a4"
      },
      "execution_count": 4,
      "outputs": [
        {
          "output_type": "execute_result",
          "data": {
            "text/plain": [
              "Index(['idauniq', 'indager', 'sex', 'saude_geral', 'hipertensao', 'angina',\n",
              "       'ataque_cardiaco', 'insuf_cardiaca', 'diabetes', 'AVC', 'parkinson',\n",
              "       'emotional', 'alzheimer', 'dementia', 'cancer', 'doenca_respiratoria',\n",
              "       'nenhuma_doenca', 'visao', 'audicao', 'olfato', 'memoria', 'adl_vestir',\n",
              "       'adl_caminhar', 'adl_banho', 'adl_comer', 'adl_sair_cama',\n",
              "       'adl_banheiro', 'iadl_mapa', 'iadl_perigo', 'iadl_prep_comida',\n",
              "       'iadl_mercado', 'iadl_telefonemas', 'iadl_fala', 'iadl_medicacao',\n",
              "       'iadl_serv_domestico', 'iadl_financas', 'iadl_nenhuma', 'CESD_score',\n",
              "       'adl_score', 'iadl_score', 'MMSE_score'],\n",
              "      dtype='object')"
            ]
          },
          "metadata": {},
          "execution_count": 4
        }
      ]
    },
    {
      "cell_type": "code",
      "source": [
        "df['saude_geral'] = df['saude_geral'].astype(object)\n",
        "df['hipertensao'] = df['hipertensao'].astype(object)\n",
        "df['angina'] = df['angina'].astype(object)\n",
        "df['ataque_cardiaco'] = df['ataque_cardiaco'].astype(object)\n",
        "df['insuf_cardiaca'] = df['insuf_cardiaca'].astype(object)\n",
        "df['diabetes'] = df['diabetes'].astype(object)\n",
        "df['AVC'] = df['AVC'].astype(object)\n",
        "df['parkinson'] = df['parkinson'].astype(object)\n",
        "df['emotional'] = df['emotional'].astype(object)\n",
        "df['alzheimer'] = df['alzheimer'].astype(object)\n",
        "#df['dementia'] = df['dementia'].astype(object)\n",
        "df['cancer'] = df['cancer'].astype(object)\n",
        "df['doenca_respiratoria'] = df['doenca_respiratoria'].astype(object)\n",
        "df['nenhuma_doenca'] = df['nenhuma_doenca'].astype(object)\n",
        "df['visao'] = df['visao'].astype(object)\n",
        "df['audicao'] = df['audicao'].astype(object)\n",
        "df['olfato'] = df['olfato'].astype(object)\n",
        "df['memoria'] = df['memoria'].astype(object)\n",
        "df['adl_vestir'] = df['adl_vestir'].astype(object)\n",
        "df['adl_caminhar'] = df['adl_caminhar'].astype(object)\n",
        "df['adl_banho'] = df['adl_banho'].astype(object)\n",
        "df['adl_comer'] = df['adl_comer'].astype(object)\n",
        "df['adl_sair_cama'] = df['adl_sair_cama'].astype(object)\n",
        "df['adl_banheiro'] = df['adl_banheiro'].astype(object)\n",
        "df['iadl_mapa'] = df['iadl_mapa'].astype(object)\n",
        "df['iadl_perigo'] = df['iadl_perigo'].astype(object)\n",
        "df['iadl_prep_comida'] = df['iadl_prep_comida'].astype(object)\n",
        "df['iadl_mercado'] = df['iadl_mercado'].astype(object)\n",
        "df['iadl_telefonemas'] = df['iadl_telefonemas'].astype(object)\n",
        "df['iadl_fala'] = df['iadl_fala'].astype(object)\n",
        "df['iadl_medicacao'] = df['iadl_medicacao'].astype(object)\n",
        "df['iadl_serv_domestico'] = df['iadl_serv_domestico'].astype(object)\n",
        "df['iadl_financas'] = df['iadl_financas'].astype(object)\n",
        "df['iadl_nenhuma'] = df['iadl_nenhuma'].astype(object)"
      ],
      "metadata": {
        "id": "oyBlk1dJXgRl"
      },
      "execution_count": 5,
      "outputs": []
    },
    {
      "cell_type": "markdown",
      "source": [
        "### Exploração dos dados\n"
      ],
      "metadata": {
        "id": "Xw6uPuv3vmA6"
      }
    },
    {
      "cell_type": "code",
      "source": [
        "df.head()"
      ],
      "metadata": {
        "id": "UYHwec2estLW",
        "colab": {
          "base_uri": "https://localhost:8080/",
          "height": 236
        },
        "outputId": "4c6f2c43-7c64-4c05-90f2-d9edac330926"
      },
      "execution_count": 6,
      "outputs": [
        {
          "output_type": "execute_result",
          "data": {
            "text/plain": [
              "   idauniq  indager  sex saude_geral hipertensao angina ataque_cardiaco  \\\n",
              "0   106269       83    1           3           0      0               0   \n",
              "1   106891       82    2           3           0      0               0   \n",
              "2   108662       75    2           5           0      0               0   \n",
              "3   105965       74    2           3           0      0               0   \n",
              "4   105070       78    1           1           0      0               0   \n",
              "\n",
              "  insuf_cardiaca diabetes AVC  ... iadl_telefonemas iadl_fala iadl_medicacao  \\\n",
              "0              0        0   0  ...                0         0              0   \n",
              "1              0        0   0  ...                0         0              0   \n",
              "2              0        0   0  ...                0         0              1   \n",
              "3              0        0   0  ...                0         0              0   \n",
              "4              0        0   0  ...                0         0              0   \n",
              "\n",
              "   iadl_serv_domestico iadl_financas iadl_nenhuma CESD_score adl_score  \\\n",
              "0                    0             0            0          4         1   \n",
              "1                    1             0            0          2         2   \n",
              "2                    0             1            0         11         4   \n",
              "3                    0             0            1          4         0   \n",
              "4                    0             0            1          1         0   \n",
              "\n",
              "  iadl_score MMSE_score  \n",
              "0          1         24  \n",
              "1          2         22  \n",
              "2          2         23  \n",
              "3          0         25  \n",
              "4          0         30  \n",
              "\n",
              "[5 rows x 41 columns]"
            ],
            "text/html": [
              "\n",
              "  <div id=\"df-3d5c25b3-7a02-4ab5-a100-0a3807a2486e\" class=\"colab-df-container\">\n",
              "    <div>\n",
              "<style scoped>\n",
              "    .dataframe tbody tr th:only-of-type {\n",
              "        vertical-align: middle;\n",
              "    }\n",
              "\n",
              "    .dataframe tbody tr th {\n",
              "        vertical-align: top;\n",
              "    }\n",
              "\n",
              "    .dataframe thead th {\n",
              "        text-align: right;\n",
              "    }\n",
              "</style>\n",
              "<table border=\"1\" class=\"dataframe\">\n",
              "  <thead>\n",
              "    <tr style=\"text-align: right;\">\n",
              "      <th></th>\n",
              "      <th>idauniq</th>\n",
              "      <th>indager</th>\n",
              "      <th>sex</th>\n",
              "      <th>saude_geral</th>\n",
              "      <th>hipertensao</th>\n",
              "      <th>angina</th>\n",
              "      <th>ataque_cardiaco</th>\n",
              "      <th>insuf_cardiaca</th>\n",
              "      <th>diabetes</th>\n",
              "      <th>AVC</th>\n",
              "      <th>...</th>\n",
              "      <th>iadl_telefonemas</th>\n",
              "      <th>iadl_fala</th>\n",
              "      <th>iadl_medicacao</th>\n",
              "      <th>iadl_serv_domestico</th>\n",
              "      <th>iadl_financas</th>\n",
              "      <th>iadl_nenhuma</th>\n",
              "      <th>CESD_score</th>\n",
              "      <th>adl_score</th>\n",
              "      <th>iadl_score</th>\n",
              "      <th>MMSE_score</th>\n",
              "    </tr>\n",
              "  </thead>\n",
              "  <tbody>\n",
              "    <tr>\n",
              "      <th>0</th>\n",
              "      <td>106269</td>\n",
              "      <td>83</td>\n",
              "      <td>1</td>\n",
              "      <td>3</td>\n",
              "      <td>0</td>\n",
              "      <td>0</td>\n",
              "      <td>0</td>\n",
              "      <td>0</td>\n",
              "      <td>0</td>\n",
              "      <td>0</td>\n",
              "      <td>...</td>\n",
              "      <td>0</td>\n",
              "      <td>0</td>\n",
              "      <td>0</td>\n",
              "      <td>0</td>\n",
              "      <td>0</td>\n",
              "      <td>0</td>\n",
              "      <td>4</td>\n",
              "      <td>1</td>\n",
              "      <td>1</td>\n",
              "      <td>24</td>\n",
              "    </tr>\n",
              "    <tr>\n",
              "      <th>1</th>\n",
              "      <td>106891</td>\n",
              "      <td>82</td>\n",
              "      <td>2</td>\n",
              "      <td>3</td>\n",
              "      <td>0</td>\n",
              "      <td>0</td>\n",
              "      <td>0</td>\n",
              "      <td>0</td>\n",
              "      <td>0</td>\n",
              "      <td>0</td>\n",
              "      <td>...</td>\n",
              "      <td>0</td>\n",
              "      <td>0</td>\n",
              "      <td>0</td>\n",
              "      <td>1</td>\n",
              "      <td>0</td>\n",
              "      <td>0</td>\n",
              "      <td>2</td>\n",
              "      <td>2</td>\n",
              "      <td>2</td>\n",
              "      <td>22</td>\n",
              "    </tr>\n",
              "    <tr>\n",
              "      <th>2</th>\n",
              "      <td>108662</td>\n",
              "      <td>75</td>\n",
              "      <td>2</td>\n",
              "      <td>5</td>\n",
              "      <td>0</td>\n",
              "      <td>0</td>\n",
              "      <td>0</td>\n",
              "      <td>0</td>\n",
              "      <td>0</td>\n",
              "      <td>0</td>\n",
              "      <td>...</td>\n",
              "      <td>0</td>\n",
              "      <td>0</td>\n",
              "      <td>1</td>\n",
              "      <td>0</td>\n",
              "      <td>1</td>\n",
              "      <td>0</td>\n",
              "      <td>11</td>\n",
              "      <td>4</td>\n",
              "      <td>2</td>\n",
              "      <td>23</td>\n",
              "    </tr>\n",
              "    <tr>\n",
              "      <th>3</th>\n",
              "      <td>105965</td>\n",
              "      <td>74</td>\n",
              "      <td>2</td>\n",
              "      <td>3</td>\n",
              "      <td>0</td>\n",
              "      <td>0</td>\n",
              "      <td>0</td>\n",
              "      <td>0</td>\n",
              "      <td>0</td>\n",
              "      <td>0</td>\n",
              "      <td>...</td>\n",
              "      <td>0</td>\n",
              "      <td>0</td>\n",
              "      <td>0</td>\n",
              "      <td>0</td>\n",
              "      <td>0</td>\n",
              "      <td>1</td>\n",
              "      <td>4</td>\n",
              "      <td>0</td>\n",
              "      <td>0</td>\n",
              "      <td>25</td>\n",
              "    </tr>\n",
              "    <tr>\n",
              "      <th>4</th>\n",
              "      <td>105070</td>\n",
              "      <td>78</td>\n",
              "      <td>1</td>\n",
              "      <td>1</td>\n",
              "      <td>0</td>\n",
              "      <td>0</td>\n",
              "      <td>0</td>\n",
              "      <td>0</td>\n",
              "      <td>0</td>\n",
              "      <td>0</td>\n",
              "      <td>...</td>\n",
              "      <td>0</td>\n",
              "      <td>0</td>\n",
              "      <td>0</td>\n",
              "      <td>0</td>\n",
              "      <td>0</td>\n",
              "      <td>1</td>\n",
              "      <td>1</td>\n",
              "      <td>0</td>\n",
              "      <td>0</td>\n",
              "      <td>30</td>\n",
              "    </tr>\n",
              "  </tbody>\n",
              "</table>\n",
              "<p>5 rows × 41 columns</p>\n",
              "</div>\n",
              "    <div class=\"colab-df-buttons\">\n",
              "\n",
              "  <div class=\"colab-df-container\">\n",
              "    <button class=\"colab-df-convert\" onclick=\"convertToInteractive('df-3d5c25b3-7a02-4ab5-a100-0a3807a2486e')\"\n",
              "            title=\"Convert this dataframe to an interactive table.\"\n",
              "            style=\"display:none;\">\n",
              "\n",
              "  <svg xmlns=\"http://www.w3.org/2000/svg\" height=\"24px\" viewBox=\"0 -960 960 960\">\n",
              "    <path d=\"M120-120v-720h720v720H120Zm60-500h600v-160H180v160Zm220 220h160v-160H400v160Zm0 220h160v-160H400v160ZM180-400h160v-160H180v160Zm440 0h160v-160H620v160ZM180-180h160v-160H180v160Zm440 0h160v-160H620v160Z\"/>\n",
              "  </svg>\n",
              "    </button>\n",
              "\n",
              "  <style>\n",
              "    .colab-df-container {\n",
              "      display:flex;\n",
              "      gap: 12px;\n",
              "    }\n",
              "\n",
              "    .colab-df-convert {\n",
              "      background-color: #E8F0FE;\n",
              "      border: none;\n",
              "      border-radius: 50%;\n",
              "      cursor: pointer;\n",
              "      display: none;\n",
              "      fill: #1967D2;\n",
              "      height: 32px;\n",
              "      padding: 0 0 0 0;\n",
              "      width: 32px;\n",
              "    }\n",
              "\n",
              "    .colab-df-convert:hover {\n",
              "      background-color: #E2EBFA;\n",
              "      box-shadow: 0px 1px 2px rgba(60, 64, 67, 0.3), 0px 1px 3px 1px rgba(60, 64, 67, 0.15);\n",
              "      fill: #174EA6;\n",
              "    }\n",
              "\n",
              "    .colab-df-buttons div {\n",
              "      margin-bottom: 4px;\n",
              "    }\n",
              "\n",
              "    [theme=dark] .colab-df-convert {\n",
              "      background-color: #3B4455;\n",
              "      fill: #D2E3FC;\n",
              "    }\n",
              "\n",
              "    [theme=dark] .colab-df-convert:hover {\n",
              "      background-color: #434B5C;\n",
              "      box-shadow: 0px 1px 3px 1px rgba(0, 0, 0, 0.15);\n",
              "      filter: drop-shadow(0px 1px 2px rgba(0, 0, 0, 0.3));\n",
              "      fill: #FFFFFF;\n",
              "    }\n",
              "  </style>\n",
              "\n",
              "    <script>\n",
              "      const buttonEl =\n",
              "        document.querySelector('#df-3d5c25b3-7a02-4ab5-a100-0a3807a2486e button.colab-df-convert');\n",
              "      buttonEl.style.display =\n",
              "        google.colab.kernel.accessAllowed ? 'block' : 'none';\n",
              "\n",
              "      async function convertToInteractive(key) {\n",
              "        const element = document.querySelector('#df-3d5c25b3-7a02-4ab5-a100-0a3807a2486e');\n",
              "        const dataTable =\n",
              "          await google.colab.kernel.invokeFunction('convertToInteractive',\n",
              "                                                    [key], {});\n",
              "        if (!dataTable) return;\n",
              "\n",
              "        const docLinkHtml = 'Like what you see? Visit the ' +\n",
              "          '<a target=\"_blank\" href=https://colab.research.google.com/notebooks/data_table.ipynb>data table notebook</a>'\n",
              "          + ' to learn more about interactive tables.';\n",
              "        element.innerHTML = '';\n",
              "        dataTable['output_type'] = 'display_data';\n",
              "        await google.colab.output.renderOutput(dataTable, element);\n",
              "        const docLink = document.createElement('div');\n",
              "        docLink.innerHTML = docLinkHtml;\n",
              "        element.appendChild(docLink);\n",
              "      }\n",
              "    </script>\n",
              "  </div>\n",
              "\n",
              "\n",
              "<div id=\"df-c6b62a86-13fc-429d-9c3a-9144561ebd81\">\n",
              "  <button class=\"colab-df-quickchart\" onclick=\"quickchart('df-c6b62a86-13fc-429d-9c3a-9144561ebd81')\"\n",
              "            title=\"Suggest charts\"\n",
              "            style=\"display:none;\">\n",
              "\n",
              "<svg xmlns=\"http://www.w3.org/2000/svg\" height=\"24px\"viewBox=\"0 0 24 24\"\n",
              "     width=\"24px\">\n",
              "    <g>\n",
              "        <path d=\"M19 3H5c-1.1 0-2 .9-2 2v14c0 1.1.9 2 2 2h14c1.1 0 2-.9 2-2V5c0-1.1-.9-2-2-2zM9 17H7v-7h2v7zm4 0h-2V7h2v10zm4 0h-2v-4h2v4z\"/>\n",
              "    </g>\n",
              "</svg>\n",
              "  </button>\n",
              "\n",
              "<style>\n",
              "  .colab-df-quickchart {\n",
              "      --bg-color: #E8F0FE;\n",
              "      --fill-color: #1967D2;\n",
              "      --hover-bg-color: #E2EBFA;\n",
              "      --hover-fill-color: #174EA6;\n",
              "      --disabled-fill-color: #AAA;\n",
              "      --disabled-bg-color: #DDD;\n",
              "  }\n",
              "\n",
              "  [theme=dark] .colab-df-quickchart {\n",
              "      --bg-color: #3B4455;\n",
              "      --fill-color: #D2E3FC;\n",
              "      --hover-bg-color: #434B5C;\n",
              "      --hover-fill-color: #FFFFFF;\n",
              "      --disabled-bg-color: #3B4455;\n",
              "      --disabled-fill-color: #666;\n",
              "  }\n",
              "\n",
              "  .colab-df-quickchart {\n",
              "    background-color: var(--bg-color);\n",
              "    border: none;\n",
              "    border-radius: 50%;\n",
              "    cursor: pointer;\n",
              "    display: none;\n",
              "    fill: var(--fill-color);\n",
              "    height: 32px;\n",
              "    padding: 0;\n",
              "    width: 32px;\n",
              "  }\n",
              "\n",
              "  .colab-df-quickchart:hover {\n",
              "    background-color: var(--hover-bg-color);\n",
              "    box-shadow: 0 1px 2px rgba(60, 64, 67, 0.3), 0 1px 3px 1px rgba(60, 64, 67, 0.15);\n",
              "    fill: var(--button-hover-fill-color);\n",
              "  }\n",
              "\n",
              "  .colab-df-quickchart-complete:disabled,\n",
              "  .colab-df-quickchart-complete:disabled:hover {\n",
              "    background-color: var(--disabled-bg-color);\n",
              "    fill: var(--disabled-fill-color);\n",
              "    box-shadow: none;\n",
              "  }\n",
              "\n",
              "  .colab-df-spinner {\n",
              "    border: 2px solid var(--fill-color);\n",
              "    border-color: transparent;\n",
              "    border-bottom-color: var(--fill-color);\n",
              "    animation:\n",
              "      spin 1s steps(1) infinite;\n",
              "  }\n",
              "\n",
              "  @keyframes spin {\n",
              "    0% {\n",
              "      border-color: transparent;\n",
              "      border-bottom-color: var(--fill-color);\n",
              "      border-left-color: var(--fill-color);\n",
              "    }\n",
              "    20% {\n",
              "      border-color: transparent;\n",
              "      border-left-color: var(--fill-color);\n",
              "      border-top-color: var(--fill-color);\n",
              "    }\n",
              "    30% {\n",
              "      border-color: transparent;\n",
              "      border-left-color: var(--fill-color);\n",
              "      border-top-color: var(--fill-color);\n",
              "      border-right-color: var(--fill-color);\n",
              "    }\n",
              "    40% {\n",
              "      border-color: transparent;\n",
              "      border-right-color: var(--fill-color);\n",
              "      border-top-color: var(--fill-color);\n",
              "    }\n",
              "    60% {\n",
              "      border-color: transparent;\n",
              "      border-right-color: var(--fill-color);\n",
              "    }\n",
              "    80% {\n",
              "      border-color: transparent;\n",
              "      border-right-color: var(--fill-color);\n",
              "      border-bottom-color: var(--fill-color);\n",
              "    }\n",
              "    90% {\n",
              "      border-color: transparent;\n",
              "      border-bottom-color: var(--fill-color);\n",
              "    }\n",
              "  }\n",
              "</style>\n",
              "\n",
              "  <script>\n",
              "    async function quickchart(key) {\n",
              "      const quickchartButtonEl =\n",
              "        document.querySelector('#' + key + ' button');\n",
              "      quickchartButtonEl.disabled = true;  // To prevent multiple clicks.\n",
              "      quickchartButtonEl.classList.add('colab-df-spinner');\n",
              "      try {\n",
              "        const charts = await google.colab.kernel.invokeFunction(\n",
              "            'suggestCharts', [key], {});\n",
              "      } catch (error) {\n",
              "        console.error('Error during call to suggestCharts:', error);\n",
              "      }\n",
              "      quickchartButtonEl.classList.remove('colab-df-spinner');\n",
              "      quickchartButtonEl.classList.add('colab-df-quickchart-complete');\n",
              "    }\n",
              "    (() => {\n",
              "      let quickchartButtonEl =\n",
              "        document.querySelector('#df-c6b62a86-13fc-429d-9c3a-9144561ebd81 button');\n",
              "      quickchartButtonEl.style.display =\n",
              "        google.colab.kernel.accessAllowed ? 'block' : 'none';\n",
              "    })();\n",
              "  </script>\n",
              "</div>\n",
              "    </div>\n",
              "  </div>\n"
            ]
          },
          "metadata": {},
          "execution_count": 6
        }
      ]
    },
    {
      "cell_type": "code",
      "source": [
        "df.columns"
      ],
      "metadata": {
        "id": "e7ngL7UZ1ACw",
        "colab": {
          "base_uri": "https://localhost:8080/"
        },
        "outputId": "95692352-5655-4c12-e264-9dd39ea5876e"
      },
      "execution_count": 7,
      "outputs": [
        {
          "output_type": "execute_result",
          "data": {
            "text/plain": [
              "Index(['idauniq', 'indager', 'sex', 'saude_geral', 'hipertensao', 'angina',\n",
              "       'ataque_cardiaco', 'insuf_cardiaca', 'diabetes', 'AVC', 'parkinson',\n",
              "       'emotional', 'alzheimer', 'dementia', 'cancer', 'doenca_respiratoria',\n",
              "       'nenhuma_doenca', 'visao', 'audicao', 'olfato', 'memoria', 'adl_vestir',\n",
              "       'adl_caminhar', 'adl_banho', 'adl_comer', 'adl_sair_cama',\n",
              "       'adl_banheiro', 'iadl_mapa', 'iadl_perigo', 'iadl_prep_comida',\n",
              "       'iadl_mercado', 'iadl_telefonemas', 'iadl_fala', 'iadl_medicacao',\n",
              "       'iadl_serv_domestico', 'iadl_financas', 'iadl_nenhuma', 'CESD_score',\n",
              "       'adl_score', 'iadl_score', 'MMSE_score'],\n",
              "      dtype='object')"
            ]
          },
          "metadata": {},
          "execution_count": 7
        }
      ]
    },
    {
      "cell_type": "code",
      "source": [
        "df['sex'].value_counts().plot(kind='bar', rot=0)"
      ],
      "metadata": {
        "id": "pDFjYzDowIUk",
        "colab": {
          "base_uri": "https://localhost:8080/",
          "height": 447
        },
        "outputId": "71a20299-b502-4266-f8d8-5e1566f0b3f8"
      },
      "execution_count": 8,
      "outputs": [
        {
          "output_type": "execute_result",
          "data": {
            "text/plain": [
              "<Axes: >"
            ]
          },
          "metadata": {},
          "execution_count": 8
        },
        {
          "output_type": "display_data",
          "data": {
            "text/plain": [
              "<Figure size 640x480 with 1 Axes>"
            ],
            "image/png": "[encoded data removed]"
          },
          "metadata": {}
        }
      ]
    },
    {
      "cell_type": "markdown",
      "source": [
        "## Associacao entre duas variaveis"
      ],
      "metadata": {
        "id": "1plNSRqIwyQh"
      }
    },
    {
      "cell_type": "markdown",
      "source": [
        "### Boxplot de idade, separado por genero"
      ],
      "metadata": {
        "id": "a2eir_ki6U73"
      }
    },
    {
      "cell_type": "markdown",
      "source": [
        "podemos observar que as medianas de idade estao bem proximas. Ainda que para confirmar, seja necessario realizar os testes de hipoteses"
      ],
      "metadata": {
        "id": "jLf2yp5i6ey2"
      }
    },
    {
      "cell_type": "code",
      "source": [
        "ax = sns.boxplot(x='sex', y='indager', data=df[df['indager'] < 100])"
      ],
      "metadata": {
        "colab": {
          "base_uri": "https://localhost:8080/",
          "height": 452
        },
        "id": "ChSxNIyOxwqk",
        "outputId": "01622b2b-22ac-4d8c-ee37-baed96437edb"
      },
      "execution_count": 10,
      "outputs": [
        {
          "output_type": "display_data",
          "data": {
            "text/plain": [
              "<Figure size 640x480 with 1 Axes>"
            ],
            "image/png": "[encoded data removed]"
          },
          "metadata": {}
        }
      ]
    },
    {
      "cell_type": "code",
      "source": [
        "df['dementia'] <= 0"
      ],
      "metadata": {
        "colab": {
          "base_uri": "https://localhost:8080/"
        },
        "id": "3WkOhSvr8cRd",
        "outputId": "6115c7c0-5be8-4f38-ad8c-c0993e989858"
      },
      "execution_count": 11,
      "outputs": [
        {
          "output_type": "execute_result",
          "data": {
            "text/plain": [
              "0       True\n",
              "1       True\n",
              "2       True\n",
              "3       True\n",
              "4       True\n",
              "        ... \n",
              "1268    True\n",
              "1269    True\n",
              "1270    True\n",
              "1271    True\n",
              "1272    True\n",
              "Name: dementia, Length: 1273, dtype: bool"
            ]
          },
          "metadata": {},
          "execution_count": 11
        }
      ]
    },
    {
      "cell_type": "code",
      "source": [
        "cond1 = df[df['dementia'] >= 0]\n",
        "#cond2 = df[df['indager'] < 100]"
      ],
      "metadata": {
        "id": "JG6pVDGX8NeF"
      },
      "execution_count": 12,
      "outputs": []
    },
    {
      "cell_type": "code",
      "source": [
        "cond1.columns"
      ],
      "metadata": {
        "colab": {
          "base_uri": "https://localhost:8080/"
        },
        "id": "QnXvALAHnaLb",
        "outputId": "47f375b0-f2a9-43b8-9ee5-54ec2c528fdb"
      },
      "execution_count": 13,
      "outputs": [
        {
          "output_type": "execute_result",
          "data": {
            "text/plain": [
              "Index(['idauniq', 'indager', 'sex', 'saude_geral', 'hipertensao', 'angina',\n",
              "       'ataque_cardiaco', 'insuf_cardiaca', 'diabetes', 'AVC', 'parkinson',\n",
              "       'emotional', 'alzheimer', 'dementia', 'cancer', 'doenca_respiratoria',\n",
              "       'nenhuma_doenca', 'visao', 'audicao', 'olfato', 'memoria', 'adl_vestir',\n",
              "       'adl_caminhar', 'adl_banho', 'adl_comer', 'adl_sair_cama',\n",
              "       'adl_banheiro', 'iadl_mapa', 'iadl_perigo', 'iadl_prep_comida',\n",
              "       'iadl_mercado', 'iadl_telefonemas', 'iadl_fala', 'iadl_medicacao',\n",
              "       'iadl_serv_domestico', 'iadl_financas', 'iadl_nenhuma', 'CESD_score',\n",
              "       'adl_score', 'iadl_score', 'MMSE_score'],\n",
              "      dtype='object')"
            ]
          },
          "metadata": {},
          "execution_count": 13
        }
      ]
    },
    {
      "cell_type": "code",
      "source": [
        "df= cond1[cond1['indager'] < 100]"
      ],
      "metadata": {
        "id": "aMzNMnimXmaW"
      },
      "execution_count": 14,
      "outputs": []
    },
    {
      "cell_type": "code",
      "source": [
        "df.shape"
      ],
      "metadata": {
        "colab": {
          "base_uri": "https://localhost:8080/"
        },
        "id": "E-Bu6F-2nlIl",
        "outputId": "a47615a0-8e44-4c06-d05b-5965925e2fda"
      },
      "execution_count": 15,
      "outputs": [
        {
          "output_type": "execute_result",
          "data": {
            "text/plain": [
              "(1221, 41)"
            ]
          },
          "metadata": {},
          "execution_count": 15
        }
      ]
    },
    {
      "cell_type": "code",
      "source": [
        "df.columns"
      ],
      "metadata": {
        "colab": {
          "base_uri": "https://localhost:8080/"
        },
        "id": "1i4M7uq6nqa_",
        "outputId": "1dc809a8-d001-4615-f3c7-90867f05dc40"
      },
      "execution_count": 16,
      "outputs": [
        {
          "output_type": "execute_result",
          "data": {
            "text/plain": [
              "Index(['idauniq', 'indager', 'sex', 'saude_geral', 'hipertensao', 'angina',\n",
              "       'ataque_cardiaco', 'insuf_cardiaca', 'diabetes', 'AVC', 'parkinson',\n",
              "       'emotional', 'alzheimer', 'dementia', 'cancer', 'doenca_respiratoria',\n",
              "       'nenhuma_doenca', 'visao', 'audicao', 'olfato', 'memoria', 'adl_vestir',\n",
              "       'adl_caminhar', 'adl_banho', 'adl_comer', 'adl_sair_cama',\n",
              "       'adl_banheiro', 'iadl_mapa', 'iadl_perigo', 'iadl_prep_comida',\n",
              "       'iadl_mercado', 'iadl_telefonemas', 'iadl_fala', 'iadl_medicacao',\n",
              "       'iadl_serv_domestico', 'iadl_financas', 'iadl_nenhuma', 'CESD_score',\n",
              "       'adl_score', 'iadl_score', 'MMSE_score'],\n",
              "      dtype='object')"
            ]
          },
          "metadata": {},
          "execution_count": 16
        }
      ]
    },
    {
      "cell_type": "code",
      "source": [
        "#df = df[df['indager'] < 100]"
      ],
      "metadata": {
        "id": "HorJ3g_H7Ytj"
      },
      "execution_count": 17,
      "outputs": []
    },
    {
      "cell_type": "markdown",
      "source": [
        "### Boxplot de casos de demencia por idade e genero"
      ],
      "metadata": {
        "id": "Cj7h1Clv6-NC"
      }
    },
    {
      "cell_type": "code",
      "source": [
        "ax = sns.boxplot(x='dementia', y='indager', hue='sex', data=df)"
      ],
      "metadata": {
        "colab": {
          "base_uri": "https://localhost:8080/",
          "height": 452
        },
        "id": "uEMGvvH16Qhj",
        "outputId": "0d1f0e45-6d22-4c46-dd08-46a74b73e937"
      },
      "execution_count": 19,
      "outputs": [
        {
          "output_type": "display_data",
          "data": {
            "text/plain": [
              "<Figure size 640x480 with 1 Axes>"
            ],
            "image/png": "[encoded data removed]"
          },
          "metadata": {}
        }
      ]
    },
    {
      "cell_type": "code",
      "source": [
        "df['dementia'].value_counts()"
      ],
      "metadata": {
        "id": "ENRtRmP8cLUD",
        "outputId": "ba1abd62-5f0b-43de-f0ce-ede54689f9a3",
        "colab": {
          "base_uri": "https://localhost:8080/"
        }
      },
      "execution_count": 20,
      "outputs": [
        {
          "output_type": "execute_result",
          "data": {
            "text/plain": [
              "0    1190\n",
              "1      31\n",
              "Name: dementia, dtype: int64"
            ]
          },
          "metadata": {},
          "execution_count": 20
        }
      ]
    },
    {
      "cell_type": "code",
      "source": [
        "df['dementia'].value_counts().plot(kind='bar', rot=0)"
      ],
      "metadata": {
        "colab": {
          "base_uri": "https://localhost:8080/",
          "height": 447
        },
        "id": "6mkwAXZ0ZtLl",
        "outputId": "8874252a-3b65-421e-ae17-65e762b40c0f"
      },
      "execution_count": 21,
      "outputs": [
        {
          "output_type": "execute_result",
          "data": {
            "text/plain": [
              "<Axes: >"
            ]
          },
          "metadata": {},
          "execution_count": 21
        },
        {
          "output_type": "display_data",
          "data": {
            "text/plain": [
              "<Figure size 640x480 with 1 Axes>"
            ],
            "image/png": "[encoded data removed]"
          },
          "metadata": {}
        }
      ]
    }
  ]
}